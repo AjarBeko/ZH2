{
    "metadata": {
        "kernelspec": {
            "name": "SQL",
            "display_name": "SQL",
            "language": "sql"
        },
        "language_info": {
            "name": "sql",
            "version": ""
        }
    },
    "nbformat_minor": 2,
    "nbformat": 4,
    "cells": [
        {
            "cell_type": "markdown",
            "source": [
                "1.feladat\n",
                "\n",
                "Készítsen lekérdezést, amely megjeleníti, hogy szobánként (SZOBA\\_FK) hány olyan foglalás történt, ahol a felnőttek száma nagyobb volt a gyermekek számánál!\n",
                "\n",
                "a. A lekérdezés jelenítse meg a végösszeget is megfelelően jelölve!"
            ],
            "metadata": {
                "azdata_cell_guid": "9f181357-14b8-457d-9fc2-cdab51ce6472"
            },
            "attachments": {}
        },
        {
            "cell_type": "code",
            "source": [
                "select IIF(grouping_id(SZOBA_FK) = 1, 'Összesen', cast(SZOBA_FK as nvarchar(10))) as 'Szoba',\r\n",
                "        COUNT(*) as 'Vendégek'\r\n",
                "from Foglalas\r\n",
                "where FELNOTT_SZAM > GYERMEK_SZAM\r\n",
                "GROUP by ROLLUP(SZOBA_FK)"
            ],
            "metadata": {
                "azdata_cell_guid": "1da0025d-d019-41e5-aa21-f29973f454b3",
                "language": "sql"
            },
            "outputs": [
                {
                    "output_type": "display_data",
                    "data": {
                        "text/html": "(190 rows affected)"
                    },
                    "metadata": {}
                },
                {
                    "output_type": "display_data",
                    "data": {
                        "text/html": "Total execution time: 00:00:00.013"
                    },
                    "metadata": {}
                },
                {
                    "output_type": "execute_result",
                    "metadata": {},
                    "execution_count": 2,
                    "data": {
                        "application/vnd.dataresource+json": {
                            "schema": {
                                "fields": [
                                    {
                                        "name": "Szoba"
                                    },
                                    {
                                        "name": "Vendégek"
                                    }
                                ]
                            },
                            "data": [
                                {
                                    "Szoba": "1",
                                    "Vendégek": "7"
                                },
                                {
                                    "Szoba": "2",
                                    "Vendégek": "2"
                                },
                                {
                                    "Szoba": "3",
                                    "Vendégek": "3"
                                },
                                {
                                    "Szoba": "4",
                                    "Vendégek": "5"
                                },
                                {
                                    "Szoba": "5",
                                    "Vendégek": "2"
                                },
                                {
                                    "Szoba": "6",
                                    "Vendégek": "5"
                                },
                                {
                                    "Szoba": "7",
                                    "Vendégek": "6"
                                },
                                {
                                    "Szoba": "8",
                                    "Vendégek": "5"
                                },
                                {
                                    "Szoba": "9",
                                    "Vendégek": "4"
                                },
                                {
                                    "Szoba": "10",
                                    "Vendégek": "4"
                                },
                                {
                                    "Szoba": "11",
                                    "Vendégek": "4"
                                },
                                {
                                    "Szoba": "12",
                                    "Vendégek": "7"
                                },
                                {
                                    "Szoba": "13",
                                    "Vendégek": "4"
                                },
                                {
                                    "Szoba": "14",
                                    "Vendégek": "3"
                                },
                                {
                                    "Szoba": "15",
                                    "Vendégek": "4"
                                },
                                {
                                    "Szoba": "16",
                                    "Vendégek": "1"
                                },
                                {
                                    "Szoba": "17",
                                    "Vendégek": "2"
                                },
                                {
                                    "Szoba": "18",
                                    "Vendégek": "3"
                                },
                                {
                                    "Szoba": "19",
                                    "Vendégek": "4"
                                },
                                {
                                    "Szoba": "20",
                                    "Vendégek": "5"
                                },
                                {
                                    "Szoba": "21",
                                    "Vendégek": "1"
                                },
                                {
                                    "Szoba": "22",
                                    "Vendégek": "2"
                                },
                                {
                                    "Szoba": "23",
                                    "Vendégek": "3"
                                },
                                {
                                    "Szoba": "24",
                                    "Vendégek": "3"
                                },
                                {
                                    "Szoba": "25",
                                    "Vendégek": "1"
                                },
                                {
                                    "Szoba": "27",
                                    "Vendégek": "5"
                                },
                                {
                                    "Szoba": "28",
                                    "Vendégek": "5"
                                },
                                {
                                    "Szoba": "29",
                                    "Vendégek": "3"
                                },
                                {
                                    "Szoba": "30",
                                    "Vendégek": "2"
                                },
                                {
                                    "Szoba": "31",
                                    "Vendégek": "1"
                                },
                                {
                                    "Szoba": "32",
                                    "Vendégek": "1"
                                },
                                {
                                    "Szoba": "33",
                                    "Vendégek": "3"
                                },
                                {
                                    "Szoba": "34",
                                    "Vendégek": "3"
                                },
                                {
                                    "Szoba": "35",
                                    "Vendégek": "6"
                                },
                                {
                                    "Szoba": "36",
                                    "Vendégek": "4"
                                },
                                {
                                    "Szoba": "37",
                                    "Vendégek": "2"
                                },
                                {
                                    "Szoba": "38",
                                    "Vendégek": "5"
                                },
                                {
                                    "Szoba": "39",
                                    "Vendégek": "4"
                                },
                                {
                                    "Szoba": "40",
                                    "Vendégek": "3"
                                },
                                {
                                    "Szoba": "41",
                                    "Vendégek": "1"
                                },
                                {
                                    "Szoba": "42",
                                    "Vendégek": "5"
                                },
                                {
                                    "Szoba": "43",
                                    "Vendégek": "4"
                                },
                                {
                                    "Szoba": "44",
                                    "Vendégek": "6"
                                },
                                {
                                    "Szoba": "45",
                                    "Vendégek": "4"
                                },
                                {
                                    "Szoba": "46",
                                    "Vendégek": "3"
                                },
                                {
                                    "Szoba": "47",
                                    "Vendégek": "2"
                                },
                                {
                                    "Szoba": "48",
                                    "Vendégek": "6"
                                },
                                {
                                    "Szoba": "49",
                                    "Vendégek": "5"
                                },
                                {
                                    "Szoba": "50",
                                    "Vendégek": "3"
                                },
                                {
                                    "Szoba": "51",
                                    "Vendégek": "3"
                                },
                                {
                                    "Szoba": "52",
                                    "Vendégek": "5"
                                },
                                {
                                    "Szoba": "54",
                                    "Vendégek": "4"
                                },
                                {
                                    "Szoba": "55",
                                    "Vendégek": "3"
                                },
                                {
                                    "Szoba": "56",
                                    "Vendégek": "1"
                                },
                                {
                                    "Szoba": "57",
                                    "Vendégek": "3"
                                },
                                {
                                    "Szoba": "58",
                                    "Vendégek": "8"
                                },
                                {
                                    "Szoba": "59",
                                    "Vendégek": "4"
                                },
                                {
                                    "Szoba": "60",
                                    "Vendégek": "1"
                                },
                                {
                                    "Szoba": "61",
                                    "Vendégek": "4"
                                },
                                {
                                    "Szoba": "62",
                                    "Vendégek": "3"
                                },
                                {
                                    "Szoba": "63",
                                    "Vendégek": "3"
                                },
                                {
                                    "Szoba": "64",
                                    "Vendégek": "5"
                                },
                                {
                                    "Szoba": "66",
                                    "Vendégek": "3"
                                },
                                {
                                    "Szoba": "67",
                                    "Vendégek": "2"
                                },
                                {
                                    "Szoba": "69",
                                    "Vendégek": "2"
                                },
                                {
                                    "Szoba": "70",
                                    "Vendégek": "8"
                                },
                                {
                                    "Szoba": "71",
                                    "Vendégek": "2"
                                },
                                {
                                    "Szoba": "72",
                                    "Vendégek": "2"
                                },
                                {
                                    "Szoba": "73",
                                    "Vendégek": "4"
                                },
                                {
                                    "Szoba": "74",
                                    "Vendégek": "8"
                                },
                                {
                                    "Szoba": "75",
                                    "Vendégek": "2"
                                },
                                {
                                    "Szoba": "76",
                                    "Vendégek": "2"
                                },
                                {
                                    "Szoba": "77",
                                    "Vendégek": "3"
                                },
                                {
                                    "Szoba": "78",
                                    "Vendégek": "3"
                                },
                                {
                                    "Szoba": "79",
                                    "Vendégek": "4"
                                },
                                {
                                    "Szoba": "80",
                                    "Vendégek": "5"
                                },
                                {
                                    "Szoba": "81",
                                    "Vendégek": "3"
                                },
                                {
                                    "Szoba": "82",
                                    "Vendégek": "5"
                                },
                                {
                                    "Szoba": "83",
                                    "Vendégek": "5"
                                },
                                {
                                    "Szoba": "84",
                                    "Vendégek": "3"
                                },
                                {
                                    "Szoba": "85",
                                    "Vendégek": "2"
                                },
                                {
                                    "Szoba": "86",
                                    "Vendégek": "4"
                                },
                                {
                                    "Szoba": "87",
                                    "Vendégek": "5"
                                },
                                {
                                    "Szoba": "88",
                                    "Vendégek": "5"
                                },
                                {
                                    "Szoba": "89",
                                    "Vendégek": "8"
                                },
                                {
                                    "Szoba": "90",
                                    "Vendégek": "3"
                                },
                                {
                                    "Szoba": "91",
                                    "Vendégek": "2"
                                },
                                {
                                    "Szoba": "92",
                                    "Vendégek": "5"
                                },
                                {
                                    "Szoba": "93",
                                    "Vendégek": "3"
                                },
                                {
                                    "Szoba": "94",
                                    "Vendégek": "6"
                                },
                                {
                                    "Szoba": "95",
                                    "Vendégek": "3"
                                },
                                {
                                    "Szoba": "96",
                                    "Vendégek": "6"
                                },
                                {
                                    "Szoba": "97",
                                    "Vendégek": "5"
                                },
                                {
                                    "Szoba": "98",
                                    "Vendégek": "4"
                                },
                                {
                                    "Szoba": "99",
                                    "Vendégek": "4"
                                },
                                {
                                    "Szoba": "100",
                                    "Vendégek": "2"
                                },
                                {
                                    "Szoba": "101",
                                    "Vendégek": "1"
                                },
                                {
                                    "Szoba": "102",
                                    "Vendégek": "1"
                                },
                                {
                                    "Szoba": "103",
                                    "Vendégek": "1"
                                },
                                {
                                    "Szoba": "104",
                                    "Vendégek": "3"
                                },
                                {
                                    "Szoba": "106",
                                    "Vendégek": "4"
                                },
                                {
                                    "Szoba": "107",
                                    "Vendégek": "4"
                                },
                                {
                                    "Szoba": "108",
                                    "Vendégek": "1"
                                },
                                {
                                    "Szoba": "109",
                                    "Vendégek": "2"
                                },
                                {
                                    "Szoba": "110",
                                    "Vendégek": "5"
                                },
                                {
                                    "Szoba": "111",
                                    "Vendégek": "1"
                                },
                                {
                                    "Szoba": "112",
                                    "Vendégek": "4"
                                },
                                {
                                    "Szoba": "113",
                                    "Vendégek": "2"
                                },
                                {
                                    "Szoba": "114",
                                    "Vendégek": "1"
                                },
                                {
                                    "Szoba": "115",
                                    "Vendégek": "5"
                                },
                                {
                                    "Szoba": "117",
                                    "Vendégek": "4"
                                },
                                {
                                    "Szoba": "118",
                                    "Vendégek": "2"
                                },
                                {
                                    "Szoba": "119",
                                    "Vendégek": "4"
                                },
                                {
                                    "Szoba": "120",
                                    "Vendégek": "2"
                                },
                                {
                                    "Szoba": "121",
                                    "Vendégek": "5"
                                },
                                {
                                    "Szoba": "122",
                                    "Vendégek": "3"
                                },
                                {
                                    "Szoba": "123",
                                    "Vendégek": "5"
                                },
                                {
                                    "Szoba": "124",
                                    "Vendégek": "4"
                                },
                                {
                                    "Szoba": "126",
                                    "Vendégek": "4"
                                },
                                {
                                    "Szoba": "127",
                                    "Vendégek": "5"
                                },
                                {
                                    "Szoba": "129",
                                    "Vendégek": "3"
                                },
                                {
                                    "Szoba": "130",
                                    "Vendégek": "5"
                                },
                                {
                                    "Szoba": "131",
                                    "Vendégek": "4"
                                },
                                {
                                    "Szoba": "132",
                                    "Vendégek": "4"
                                },
                                {
                                    "Szoba": "133",
                                    "Vendégek": "4"
                                },
                                {
                                    "Szoba": "134",
                                    "Vendégek": "4"
                                },
                                {
                                    "Szoba": "135",
                                    "Vendégek": "3"
                                },
                                {
                                    "Szoba": "136",
                                    "Vendégek": "2"
                                },
                                {
                                    "Szoba": "137",
                                    "Vendégek": "2"
                                },
                                {
                                    "Szoba": "138",
                                    "Vendégek": "5"
                                },
                                {
                                    "Szoba": "139",
                                    "Vendégek": "6"
                                },
                                {
                                    "Szoba": "140",
                                    "Vendégek": "5"
                                },
                                {
                                    "Szoba": "141",
                                    "Vendégek": "4"
                                },
                                {
                                    "Szoba": "142",
                                    "Vendégek": "1"
                                },
                                {
                                    "Szoba": "143",
                                    "Vendégek": "5"
                                },
                                {
                                    "Szoba": "144",
                                    "Vendégek": "2"
                                },
                                {
                                    "Szoba": "145",
                                    "Vendégek": "2"
                                },
                                {
                                    "Szoba": "146",
                                    "Vendégek": "3"
                                },
                                {
                                    "Szoba": "147",
                                    "Vendégek": "1"
                                },
                                {
                                    "Szoba": "148",
                                    "Vendégek": "5"
                                },
                                {
                                    "Szoba": "149",
                                    "Vendégek": "5"
                                },
                                {
                                    "Szoba": "150",
                                    "Vendégek": "6"
                                },
                                {
                                    "Szoba": "151",
                                    "Vendégek": "2"
                                },
                                {
                                    "Szoba": "152",
                                    "Vendégek": "3"
                                },
                                {
                                    "Szoba": "153",
                                    "Vendégek": "4"
                                },
                                {
                                    "Szoba": "154",
                                    "Vendégek": "3"
                                },
                                {
                                    "Szoba": "155",
                                    "Vendégek": "3"
                                },
                                {
                                    "Szoba": "156",
                                    "Vendégek": "2"
                                },
                                {
                                    "Szoba": "157",
                                    "Vendégek": "2"
                                },
                                {
                                    "Szoba": "158",
                                    "Vendégek": "3"
                                },
                                {
                                    "Szoba": "160",
                                    "Vendégek": "2"
                                },
                                {
                                    "Szoba": "161",
                                    "Vendégek": "3"
                                },
                                {
                                    "Szoba": "162",
                                    "Vendégek": "2"
                                },
                                {
                                    "Szoba": "163",
                                    "Vendégek": "5"
                                },
                                {
                                    "Szoba": "164",
                                    "Vendégek": "4"
                                },
                                {
                                    "Szoba": "165",
                                    "Vendégek": "5"
                                },
                                {
                                    "Szoba": "166",
                                    "Vendégek": "3"
                                },
                                {
                                    "Szoba": "167",
                                    "Vendégek": "2"
                                },
                                {
                                    "Szoba": "168",
                                    "Vendégek": "1"
                                },
                                {
                                    "Szoba": "169",
                                    "Vendégek": "3"
                                },
                                {
                                    "Szoba": "170",
                                    "Vendégek": "3"
                                },
                                {
                                    "Szoba": "171",
                                    "Vendégek": "5"
                                },
                                {
                                    "Szoba": "172",
                                    "Vendégek": "6"
                                },
                                {
                                    "Szoba": "173",
                                    "Vendégek": "3"
                                },
                                {
                                    "Szoba": "174",
                                    "Vendégek": "4"
                                },
                                {
                                    "Szoba": "175",
                                    "Vendégek": "3"
                                },
                                {
                                    "Szoba": "176",
                                    "Vendégek": "2"
                                },
                                {
                                    "Szoba": "177",
                                    "Vendégek": "1"
                                },
                                {
                                    "Szoba": "178",
                                    "Vendégek": "1"
                                },
                                {
                                    "Szoba": "179",
                                    "Vendégek": "2"
                                },
                                {
                                    "Szoba": "180",
                                    "Vendégek": "1"
                                },
                                {
                                    "Szoba": "181",
                                    "Vendégek": "5"
                                },
                                {
                                    "Szoba": "182",
                                    "Vendégek": "11"
                                },
                                {
                                    "Szoba": "183",
                                    "Vendégek": "3"
                                },
                                {
                                    "Szoba": "184",
                                    "Vendégek": "4"
                                },
                                {
                                    "Szoba": "185",
                                    "Vendégek": "10"
                                },
                                {
                                    "Szoba": "186",
                                    "Vendégek": "1"
                                },
                                {
                                    "Szoba": "187",
                                    "Vendégek": "6"
                                },
                                {
                                    "Szoba": "188",
                                    "Vendégek": "2"
                                },
                                {
                                    "Szoba": "189",
                                    "Vendégek": "1"
                                },
                                {
                                    "Szoba": "190",
                                    "Vendégek": "5"
                                },
                                {
                                    "Szoba": "191",
                                    "Vendégek": "3"
                                },
                                {
                                    "Szoba": "192",
                                    "Vendégek": "1"
                                },
                                {
                                    "Szoba": "193",
                                    "Vendégek": "2"
                                },
                                {
                                    "Szoba": "194",
                                    "Vendégek": "1"
                                },
                                {
                                    "Szoba": "195",
                                    "Vendégek": "5"
                                },
                                {
                                    "Szoba": "196",
                                    "Vendégek": "2"
                                },
                                {
                                    "Szoba": "197",
                                    "Vendégek": "6"
                                },
                                {
                                    "Szoba": "198",
                                    "Vendégek": "7"
                                },
                                {
                                    "Szoba": "Összesen",
                                    "Vendégek": "668"
                                }
                            ]
                        },
                        "text/html": [
                            "<table>",
                            "<tr><th>Szoba</th><th>Vendégek</th></tr>",
                            "<tr><td>1</td><td>7</td></tr>",
                            "<tr><td>2</td><td>2</td></tr>",
                            "<tr><td>3</td><td>3</td></tr>",
                            "<tr><td>4</td><td>5</td></tr>",
                            "<tr><td>5</td><td>2</td></tr>",
                            "<tr><td>6</td><td>5</td></tr>",
                            "<tr><td>7</td><td>6</td></tr>",
                            "<tr><td>8</td><td>5</td></tr>",
                            "<tr><td>9</td><td>4</td></tr>",
                            "<tr><td>10</td><td>4</td></tr>",
                            "<tr><td>11</td><td>4</td></tr>",
                            "<tr><td>12</td><td>7</td></tr>",
                            "<tr><td>13</td><td>4</td></tr>",
                            "<tr><td>14</td><td>3</td></tr>",
                            "<tr><td>15</td><td>4</td></tr>",
                            "<tr><td>16</td><td>1</td></tr>",
                            "<tr><td>17</td><td>2</td></tr>",
                            "<tr><td>18</td><td>3</td></tr>",
                            "<tr><td>19</td><td>4</td></tr>",
                            "<tr><td>20</td><td>5</td></tr>",
                            "<tr><td>21</td><td>1</td></tr>",
                            "<tr><td>22</td><td>2</td></tr>",
                            "<tr><td>23</td><td>3</td></tr>",
                            "<tr><td>24</td><td>3</td></tr>",
                            "<tr><td>25</td><td>1</td></tr>",
                            "<tr><td>27</td><td>5</td></tr>",
                            "<tr><td>28</td><td>5</td></tr>",
                            "<tr><td>29</td><td>3</td></tr>",
                            "<tr><td>30</td><td>2</td></tr>",
                            "<tr><td>31</td><td>1</td></tr>",
                            "<tr><td>32</td><td>1</td></tr>",
                            "<tr><td>33</td><td>3</td></tr>",
                            "<tr><td>34</td><td>3</td></tr>",
                            "<tr><td>35</td><td>6</td></tr>",
                            "<tr><td>36</td><td>4</td></tr>",
                            "<tr><td>37</td><td>2</td></tr>",
                            "<tr><td>38</td><td>5</td></tr>",
                            "<tr><td>39</td><td>4</td></tr>",
                            "<tr><td>40</td><td>3</td></tr>",
                            "<tr><td>41</td><td>1</td></tr>",
                            "<tr><td>42</td><td>5</td></tr>",
                            "<tr><td>43</td><td>4</td></tr>",
                            "<tr><td>44</td><td>6</td></tr>",
                            "<tr><td>45</td><td>4</td></tr>",
                            "<tr><td>46</td><td>3</td></tr>",
                            "<tr><td>47</td><td>2</td></tr>",
                            "<tr><td>48</td><td>6</td></tr>",
                            "<tr><td>49</td><td>5</td></tr>",
                            "<tr><td>50</td><td>3</td></tr>",
                            "<tr><td>51</td><td>3</td></tr>",
                            "<tr><td>52</td><td>5</td></tr>",
                            "<tr><td>54</td><td>4</td></tr>",
                            "<tr><td>55</td><td>3</td></tr>",
                            "<tr><td>56</td><td>1</td></tr>",
                            "<tr><td>57</td><td>3</td></tr>",
                            "<tr><td>58</td><td>8</td></tr>",
                            "<tr><td>59</td><td>4</td></tr>",
                            "<tr><td>60</td><td>1</td></tr>",
                            "<tr><td>61</td><td>4</td></tr>",
                            "<tr><td>62</td><td>3</td></tr>",
                            "<tr><td>63</td><td>3</td></tr>",
                            "<tr><td>64</td><td>5</td></tr>",
                            "<tr><td>66</td><td>3</td></tr>",
                            "<tr><td>67</td><td>2</td></tr>",
                            "<tr><td>69</td><td>2</td></tr>",
                            "<tr><td>70</td><td>8</td></tr>",
                            "<tr><td>71</td><td>2</td></tr>",
                            "<tr><td>72</td><td>2</td></tr>",
                            "<tr><td>73</td><td>4</td></tr>",
                            "<tr><td>74</td><td>8</td></tr>",
                            "<tr><td>75</td><td>2</td></tr>",
                            "<tr><td>76</td><td>2</td></tr>",
                            "<tr><td>77</td><td>3</td></tr>",
                            "<tr><td>78</td><td>3</td></tr>",
                            "<tr><td>79</td><td>4</td></tr>",
                            "<tr><td>80</td><td>5</td></tr>",
                            "<tr><td>81</td><td>3</td></tr>",
                            "<tr><td>82</td><td>5</td></tr>",
                            "<tr><td>83</td><td>5</td></tr>",
                            "<tr><td>84</td><td>3</td></tr>",
                            "<tr><td>85</td><td>2</td></tr>",
                            "<tr><td>86</td><td>4</td></tr>",
                            "<tr><td>87</td><td>5</td></tr>",
                            "<tr><td>88</td><td>5</td></tr>",
                            "<tr><td>89</td><td>8</td></tr>",
                            "<tr><td>90</td><td>3</td></tr>",
                            "<tr><td>91</td><td>2</td></tr>",
                            "<tr><td>92</td><td>5</td></tr>",
                            "<tr><td>93</td><td>3</td></tr>",
                            "<tr><td>94</td><td>6</td></tr>",
                            "<tr><td>95</td><td>3</td></tr>",
                            "<tr><td>96</td><td>6</td></tr>",
                            "<tr><td>97</td><td>5</td></tr>",
                            "<tr><td>98</td><td>4</td></tr>",
                            "<tr><td>99</td><td>4</td></tr>",
                            "<tr><td>100</td><td>2</td></tr>",
                            "<tr><td>101</td><td>1</td></tr>",
                            "<tr><td>102</td><td>1</td></tr>",
                            "<tr><td>103</td><td>1</td></tr>",
                            "<tr><td>104</td><td>3</td></tr>",
                            "<tr><td>106</td><td>4</td></tr>",
                            "<tr><td>107</td><td>4</td></tr>",
                            "<tr><td>108</td><td>1</td></tr>",
                            "<tr><td>109</td><td>2</td></tr>",
                            "<tr><td>110</td><td>5</td></tr>",
                            "<tr><td>111</td><td>1</td></tr>",
                            "<tr><td>112</td><td>4</td></tr>",
                            "<tr><td>113</td><td>2</td></tr>",
                            "<tr><td>114</td><td>1</td></tr>",
                            "<tr><td>115</td><td>5</td></tr>",
                            "<tr><td>117</td><td>4</td></tr>",
                            "<tr><td>118</td><td>2</td></tr>",
                            "<tr><td>119</td><td>4</td></tr>",
                            "<tr><td>120</td><td>2</td></tr>",
                            "<tr><td>121</td><td>5</td></tr>",
                            "<tr><td>122</td><td>3</td></tr>",
                            "<tr><td>123</td><td>5</td></tr>",
                            "<tr><td>124</td><td>4</td></tr>",
                            "<tr><td>126</td><td>4</td></tr>",
                            "<tr><td>127</td><td>5</td></tr>",
                            "<tr><td>129</td><td>3</td></tr>",
                            "<tr><td>130</td><td>5</td></tr>",
                            "<tr><td>131</td><td>4</td></tr>",
                            "<tr><td>132</td><td>4</td></tr>",
                            "<tr><td>133</td><td>4</td></tr>",
                            "<tr><td>134</td><td>4</td></tr>",
                            "<tr><td>135</td><td>3</td></tr>",
                            "<tr><td>136</td><td>2</td></tr>",
                            "<tr><td>137</td><td>2</td></tr>",
                            "<tr><td>138</td><td>5</td></tr>",
                            "<tr><td>139</td><td>6</td></tr>",
                            "<tr><td>140</td><td>5</td></tr>",
                            "<tr><td>141</td><td>4</td></tr>",
                            "<tr><td>142</td><td>1</td></tr>",
                            "<tr><td>143</td><td>5</td></tr>",
                            "<tr><td>144</td><td>2</td></tr>",
                            "<tr><td>145</td><td>2</td></tr>",
                            "<tr><td>146</td><td>3</td></tr>",
                            "<tr><td>147</td><td>1</td></tr>",
                            "<tr><td>148</td><td>5</td></tr>",
                            "<tr><td>149</td><td>5</td></tr>",
                            "<tr><td>150</td><td>6</td></tr>",
                            "<tr><td>151</td><td>2</td></tr>",
                            "<tr><td>152</td><td>3</td></tr>",
                            "<tr><td>153</td><td>4</td></tr>",
                            "<tr><td>154</td><td>3</td></tr>",
                            "<tr><td>155</td><td>3</td></tr>",
                            "<tr><td>156</td><td>2</td></tr>",
                            "<tr><td>157</td><td>2</td></tr>",
                            "<tr><td>158</td><td>3</td></tr>",
                            "<tr><td>160</td><td>2</td></tr>",
                            "<tr><td>161</td><td>3</td></tr>",
                            "<tr><td>162</td><td>2</td></tr>",
                            "<tr><td>163</td><td>5</td></tr>",
                            "<tr><td>164</td><td>4</td></tr>",
                            "<tr><td>165</td><td>5</td></tr>",
                            "<tr><td>166</td><td>3</td></tr>",
                            "<tr><td>167</td><td>2</td></tr>",
                            "<tr><td>168</td><td>1</td></tr>",
                            "<tr><td>169</td><td>3</td></tr>",
                            "<tr><td>170</td><td>3</td></tr>",
                            "<tr><td>171</td><td>5</td></tr>",
                            "<tr><td>172</td><td>6</td></tr>",
                            "<tr><td>173</td><td>3</td></tr>",
                            "<tr><td>174</td><td>4</td></tr>",
                            "<tr><td>175</td><td>3</td></tr>",
                            "<tr><td>176</td><td>2</td></tr>",
                            "<tr><td>177</td><td>1</td></tr>",
                            "<tr><td>178</td><td>1</td></tr>",
                            "<tr><td>179</td><td>2</td></tr>",
                            "<tr><td>180</td><td>1</td></tr>",
                            "<tr><td>181</td><td>5</td></tr>",
                            "<tr><td>182</td><td>11</td></tr>",
                            "<tr><td>183</td><td>3</td></tr>",
                            "<tr><td>184</td><td>4</td></tr>",
                            "<tr><td>185</td><td>10</td></tr>",
                            "<tr><td>186</td><td>1</td></tr>",
                            "<tr><td>187</td><td>6</td></tr>",
                            "<tr><td>188</td><td>2</td></tr>",
                            "<tr><td>189</td><td>1</td></tr>",
                            "<tr><td>190</td><td>5</td></tr>",
                            "<tr><td>191</td><td>3</td></tr>",
                            "<tr><td>192</td><td>1</td></tr>",
                            "<tr><td>193</td><td>2</td></tr>",
                            "<tr><td>194</td><td>1</td></tr>",
                            "<tr><td>195</td><td>5</td></tr>",
                            "<tr><td>196</td><td>2</td></tr>",
                            "<tr><td>197</td><td>6</td></tr>",
                            "<tr><td>198</td><td>7</td></tr>",
                            "<tr><td>Összesen</td><td>668</td></tr>",
                            "</table>"
                        ]
                    }
                }
            ],
            "execution_count": 2
        },
        {
            "cell_type": "markdown",
            "source": [
                "2\\. feladat\n",
                "\n",
                "Rangsoroljuk az egyes szobákat a foglalások száma, azon belül férőhely szerint!\n",
                "\n",
                "- Holtverseny esetén a sorszámok sűrűn kövessék egymást\n",
                "- Az 1-es számot a legtöbbet foglalt, azon belül legkevesebb férőhelyű szoba kapja\n",
                "- Csak a szoba azonosítója, a férőhely és a helyezés jelenjen meg"
            ],
            "metadata": {
                "azdata_cell_guid": "62105156-4b58-4aad-b25d-8332238e935c"
            },
            "attachments": {}
        },
        {
            "cell_type": "code",
            "source": [
                "SELECT SZOBA_FK as 'Szoba azonosító',\r\n",
                "        FEROHELY as 'Férőhely',\r\n",
                "        dense_RANK() over (order by  count(*) desc, FEROHELY) as 'Helyezés'\r\n",
                "FROM Szoba join Foglalas on szoba.SZOBA_ID = Foglalas.SZOBA_FK\r\n",
                "GROUP by SZOBA_FK, FEROHELY"
            ],
            "metadata": {
                "azdata_cell_guid": "dd415997-7adf-4c83-96f9-e8811b318eeb",
                "language": "sql"
            },
            "outputs": [
                {
                    "output_type": "display_data",
                    "data": {
                        "text/html": "(197 rows affected)"
                    },
                    "metadata": {}
                },
                {
                    "output_type": "display_data",
                    "data": {
                        "text/html": "Total execution time: 00:00:00.010"
                    },
                    "metadata": {}
                },
                {
                    "output_type": "execute_result",
                    "metadata": {},
                    "execution_count": 12,
                    "data": {
                        "application/vnd.dataresource+json": {
                            "schema": {
                                "fields": [
                                    {
                                        "name": "Szoba azonosító"
                                    },
                                    {
                                        "name": "Férőhely"
                                    },
                                    {
                                        "name": "Helyezés"
                                    }
                                ]
                            },
                            "data": [
                                {
                                    "Szoba azonosító": "58",
                                    "Férőhely": "2",
                                    "Helyezés": "1"
                                },
                                {
                                    "Szoba azonosító": "182",
                                    "Férőhely": "2",
                                    "Helyezés": "2"
                                },
                                {
                                    "Szoba azonosító": "185",
                                    "Férőhely": "3",
                                    "Helyezés": "3"
                                },
                                {
                                    "Szoba azonosító": "70",
                                    "Férőhely": "2",
                                    "Helyezés": "4"
                                },
                                {
                                    "Szoba azonosító": "94",
                                    "Férőhely": "2",
                                    "Helyezés": "5"
                                },
                                {
                                    "Szoba azonosító": "12",
                                    "Férőhely": "2",
                                    "Helyezés": "6"
                                },
                                {
                                    "Szoba azonosító": "172",
                                    "Férőhely": "2",
                                    "Helyezés": "6"
                                },
                                {
                                    "Szoba azonosító": "35",
                                    "Férőhely": "3",
                                    "Helyezés": "7"
                                },
                                {
                                    "Szoba azonosító": "48",
                                    "Férőhely": "3",
                                    "Helyezés": "7"
                                },
                                {
                                    "Szoba azonosító": "74",
                                    "Férőhely": "3",
                                    "Helyezés": "7"
                                },
                                {
                                    "Szoba azonosító": "122",
                                    "Férőhely": "3",
                                    "Helyezés": "7"
                                },
                                {
                                    "Szoba azonosító": "121",
                                    "Férőhely": "2",
                                    "Helyezés": "8"
                                },
                                {
                                    "Szoba azonosító": "140",
                                    "Férőhely": "2",
                                    "Helyezés": "8"
                                },
                                {
                                    "Szoba azonosító": "110",
                                    "Férőhely": "2",
                                    "Helyezés": "8"
                                },
                                {
                                    "Szoba azonosító": "55",
                                    "Férőhely": "2",
                                    "Helyezés": "8"
                                },
                                {
                                    "Szoba azonosító": "38",
                                    "Férőhely": "2",
                                    "Helyezés": "8"
                                },
                                {
                                    "Szoba azonosító": "1",
                                    "Férőhely": "3",
                                    "Helyezés": "9"
                                },
                                {
                                    "Szoba azonosító": "3",
                                    "Férőhely": "3",
                                    "Helyezés": "9"
                                },
                                {
                                    "Szoba azonosító": "43",
                                    "Férőhely": "3",
                                    "Helyezés": "9"
                                },
                                {
                                    "Szoba azonosító": "83",
                                    "Férőhely": "3",
                                    "Helyezés": "9"
                                },
                                {
                                    "Szoba azonosító": "88",
                                    "Férőhely": "3",
                                    "Helyezés": "9"
                                },
                                {
                                    "Szoba azonosító": "89",
                                    "Férőhely": "3",
                                    "Helyezés": "9"
                                },
                                {
                                    "Szoba azonosító": "117",
                                    "Férőhely": "3",
                                    "Helyezés": "9"
                                },
                                {
                                    "Szoba azonosító": "198",
                                    "Férőhely": "3",
                                    "Helyezés": "9"
                                },
                                {
                                    "Szoba azonosító": "149",
                                    "Férőhely": "2",
                                    "Helyezés": "10"
                                },
                                {
                                    "Szoba azonosító": "156",
                                    "Férőhely": "2",
                                    "Helyezés": "10"
                                },
                                {
                                    "Szoba azonosító": "163",
                                    "Férőhely": "2",
                                    "Helyezés": "10"
                                },
                                {
                                    "Szoba azonosító": "165",
                                    "Férőhely": "2",
                                    "Helyezés": "10"
                                },
                                {
                                    "Szoba azonosító": "118",
                                    "Férőhely": "2",
                                    "Helyezés": "10"
                                },
                                {
                                    "Szoba azonosító": "109",
                                    "Férőhely": "2",
                                    "Helyezés": "10"
                                },
                                {
                                    "Szoba azonosító": "127",
                                    "Férőhely": "2",
                                    "Helyezés": "10"
                                },
                                {
                                    "Szoba azonosító": "139",
                                    "Férőhely": "2",
                                    "Helyezés": "10"
                                },
                                {
                                    "Szoba azonosító": "80",
                                    "Férőhely": "2",
                                    "Helyezés": "10"
                                },
                                {
                                    "Szoba azonosító": "59",
                                    "Férőhely": "2",
                                    "Helyezés": "10"
                                },
                                {
                                    "Szoba azonosító": "39",
                                    "Férőhely": "2",
                                    "Helyezés": "10"
                                },
                                {
                                    "Szoba azonosító": "27",
                                    "Férőhely": "3",
                                    "Helyezés": "11"
                                },
                                {
                                    "Szoba azonosító": "49",
                                    "Férőhely": "3",
                                    "Helyezés": "11"
                                },
                                {
                                    "Szoba azonosító": "96",
                                    "Férőhely": "3",
                                    "Helyezés": "11"
                                },
                                {
                                    "Szoba azonosító": "97",
                                    "Férőhely": "3",
                                    "Helyezés": "11"
                                },
                                {
                                    "Szoba azonosító": "138",
                                    "Férőhely": "3",
                                    "Helyezés": "11"
                                },
                                {
                                    "Szoba azonosító": "143",
                                    "Férőhely": "3",
                                    "Helyezés": "11"
                                },
                                {
                                    "Szoba azonosító": "115",
                                    "Férőhely": "3",
                                    "Helyezés": "11"
                                },
                                {
                                    "Szoba azonosító": "187",
                                    "Férőhely": "3",
                                    "Helyezés": "11"
                                },
                                {
                                    "Szoba azonosító": "193",
                                    "Férőhely": "3",
                                    "Helyezés": "11"
                                },
                                {
                                    "Szoba azonosító": "195",
                                    "Férőhely": "2",
                                    "Helyezés": "12"
                                },
                                {
                                    "Szoba azonosító": "161",
                                    "Férőhely": "2",
                                    "Helyezés": "12"
                                },
                                {
                                    "Szoba azonosító": "150",
                                    "Férőhely": "2",
                                    "Helyezés": "12"
                                },
                                {
                                    "Szoba azonosító": "148",
                                    "Férőhely": "2",
                                    "Helyezés": "12"
                                },
                                {
                                    "Szoba azonosító": "169",
                                    "Férőhely": "2",
                                    "Helyezés": "12"
                                },
                                {
                                    "Szoba azonosító": "106",
                                    "Férőhely": "2",
                                    "Helyezés": "12"
                                },
                                {
                                    "Szoba azonosító": "126",
                                    "Férőhely": "2",
                                    "Helyezés": "12"
                                },
                                {
                                    "Szoba azonosító": "145",
                                    "Férőhely": "2",
                                    "Helyezés": "12"
                                },
                                {
                                    "Szoba azonosító": "141",
                                    "Férőhely": "2",
                                    "Helyezés": "12"
                                },
                                {
                                    "Szoba azonosító": "130",
                                    "Férőhely": "2",
                                    "Helyezés": "12"
                                },
                                {
                                    "Szoba azonosító": "137",
                                    "Férőhely": "2",
                                    "Helyezés": "12"
                                },
                                {
                                    "Szoba azonosító": "78",
                                    "Férőhely": "2",
                                    "Helyezés": "12"
                                },
                                {
                                    "Szoba azonosító": "42",
                                    "Férőhely": "2",
                                    "Helyezés": "12"
                                },
                                {
                                    "Szoba azonosító": "64",
                                    "Férőhely": "2",
                                    "Helyezés": "12"
                                },
                                {
                                    "Szoba azonosító": "67",
                                    "Férőhely": "2",
                                    "Helyezés": "12"
                                },
                                {
                                    "Szoba azonosító": "28",
                                    "Férőhely": "2",
                                    "Helyezés": "12"
                                },
                                {
                                    "Szoba azonosító": "29",
                                    "Férőhely": "2",
                                    "Helyezés": "12"
                                },
                                {
                                    "Szoba azonosító": "19",
                                    "Férőhely": "2",
                                    "Helyezés": "12"
                                },
                                {
                                    "Szoba azonosító": "33",
                                    "Férőhely": "2",
                                    "Helyezés": "12"
                                },
                                {
                                    "Szoba azonosító": "4",
                                    "Férőhely": "2",
                                    "Helyezés": "12"
                                },
                                {
                                    "Szoba azonosító": "7",
                                    "Férőhely": "2",
                                    "Helyezés": "12"
                                },
                                {
                                    "Szoba azonosító": "15",
                                    "Férőhely": "2",
                                    "Helyezés": "12"
                                },
                                {
                                    "Szoba azonosító": "17",
                                    "Férőhely": "3",
                                    "Helyezés": "13"
                                },
                                {
                                    "Szoba azonosító": "18",
                                    "Férőhely": "3",
                                    "Helyezés": "13"
                                },
                                {
                                    "Szoba azonosító": "6",
                                    "Férőhely": "3",
                                    "Helyezés": "13"
                                },
                                {
                                    "Szoba azonosító": "9",
                                    "Férőhely": "3",
                                    "Helyezés": "13"
                                },
                                {
                                    "Szoba azonosító": "22",
                                    "Férőhely": "3",
                                    "Helyezés": "13"
                                },
                                {
                                    "Szoba azonosító": "36",
                                    "Férőhely": "3",
                                    "Helyezés": "13"
                                },
                                {
                                    "Szoba azonosító": "44",
                                    "Férőhely": "3",
                                    "Helyezés": "13"
                                },
                                {
                                    "Szoba azonosító": "54",
                                    "Férőhely": "3",
                                    "Helyezés": "13"
                                },
                                {
                                    "Szoba azonosító": "77",
                                    "Férőhely": "3",
                                    "Helyezés": "13"
                                },
                                {
                                    "Szoba azonosító": "82",
                                    "Férőhely": "3",
                                    "Helyezés": "13"
                                },
                                {
                                    "Szoba azonosító": "92",
                                    "Férőhely": "3",
                                    "Helyezés": "13"
                                },
                                {
                                    "Szoba azonosító": "132",
                                    "Férőhely": "3",
                                    "Helyezés": "13"
                                },
                                {
                                    "Szoba azonosító": "133",
                                    "Férőhely": "3",
                                    "Helyezés": "13"
                                },
                                {
                                    "Szoba azonosító": "134",
                                    "Férőhely": "3",
                                    "Helyezés": "13"
                                },
                                {
                                    "Szoba azonosító": "146",
                                    "Férőhely": "3",
                                    "Helyezés": "13"
                                },
                                {
                                    "Szoba azonosító": "124",
                                    "Férőhely": "3",
                                    "Helyezés": "13"
                                },
                                {
                                    "Szoba azonosító": "120",
                                    "Férőhely": "3",
                                    "Helyezés": "13"
                                },
                                {
                                    "Szoba azonosító": "176",
                                    "Férőhely": "3",
                                    "Helyezés": "13"
                                },
                                {
                                    "Szoba azonosító": "181",
                                    "Férőhely": "3",
                                    "Helyezés": "13"
                                },
                                {
                                    "Szoba azonosító": "188",
                                    "Férőhely": "3",
                                    "Helyezés": "13"
                                },
                                {
                                    "Szoba azonosító": "197",
                                    "Férőhely": "3",
                                    "Helyezés": "13"
                                },
                                {
                                    "Szoba azonosító": "189",
                                    "Férőhely": "2",
                                    "Helyezés": "14"
                                },
                                {
                                    "Szoba azonosító": "190",
                                    "Férőhely": "2",
                                    "Helyezés": "14"
                                },
                                {
                                    "Szoba azonosító": "191",
                                    "Férőhely": "2",
                                    "Helyezés": "14"
                                },
                                {
                                    "Szoba azonosító": "168",
                                    "Férőhely": "2",
                                    "Helyezés": "14"
                                },
                                {
                                    "Szoba azonosító": "175",
                                    "Férőhely": "2",
                                    "Helyezés": "14"
                                },
                                {
                                    "Szoba azonosító": "170",
                                    "Férőhely": "2",
                                    "Helyezés": "14"
                                },
                                {
                                    "Szoba azonosító": "171",
                                    "Férőhely": "2",
                                    "Helyezés": "14"
                                },
                                {
                                    "Szoba azonosító": "157",
                                    "Férőhely": "2",
                                    "Helyezés": "14"
                                },
                                {
                                    "Szoba azonosító": "154",
                                    "Férőhely": "2",
                                    "Helyezés": "14"
                                },
                                {
                                    "Szoba azonosító": "164",
                                    "Férőhely": "2",
                                    "Helyezés": "14"
                                },
                                {
                                    "Szoba azonosító": "119",
                                    "Férőhely": "2",
                                    "Helyezés": "14"
                                },
                                {
                                    "Szoba azonosító": "107",
                                    "Férőhely": "2",
                                    "Helyezés": "14"
                                },
                                {
                                    "Szoba azonosító": "128",
                                    "Férőhely": "2",
                                    "Helyezés": "14"
                                },
                                {
                                    "Szoba azonosító": "131",
                                    "Férőhely": "2",
                                    "Helyezés": "14"
                                },
                                {
                                    "Szoba azonosító": "99",
                                    "Férőhely": "2",
                                    "Helyezés": "14"
                                },
                                {
                                    "Szoba azonosító": "111",
                                    "Férőhely": "2",
                                    "Helyezés": "14"
                                },
                                {
                                    "Szoba azonosító": "81",
                                    "Férőhely": "2",
                                    "Helyezés": "14"
                                },
                                {
                                    "Szoba azonosító": "86",
                                    "Férőhely": "2",
                                    "Helyezés": "14"
                                },
                                {
                                    "Szoba azonosító": "52",
                                    "Férőhely": "2",
                                    "Helyezés": "14"
                                },
                                {
                                    "Szoba azonosító": "45",
                                    "Férőhely": "2",
                                    "Helyezés": "14"
                                },
                                {
                                    "Szoba azonosító": "62",
                                    "Férőhely": "2",
                                    "Helyezés": "14"
                                },
                                {
                                    "Szoba azonosító": "61",
                                    "Férőhely": "3",
                                    "Helyezés": "15"
                                },
                                {
                                    "Szoba azonosító": "51",
                                    "Férőhely": "3",
                                    "Helyezés": "15"
                                },
                                {
                                    "Szoba azonosító": "20",
                                    "Férőhely": "3",
                                    "Helyezés": "15"
                                },
                                {
                                    "Szoba azonosító": "8",
                                    "Férőhely": "3",
                                    "Helyezés": "15"
                                },
                                {
                                    "Szoba azonosító": "16",
                                    "Férőhely": "3",
                                    "Helyezés": "15"
                                },
                                {
                                    "Szoba azonosító": "87",
                                    "Férőhely": "3",
                                    "Helyezés": "15"
                                },
                                {
                                    "Szoba azonosító": "79",
                                    "Férőhely": "3",
                                    "Helyezés": "15"
                                },
                                {
                                    "Szoba azonosító": "112",
                                    "Férőhely": "3",
                                    "Helyezés": "15"
                                },
                                {
                                    "Szoba azonosító": "113",
                                    "Férőhely": "3",
                                    "Helyezés": "15"
                                },
                                {
                                    "Szoba azonosító": "93",
                                    "Férőhely": "3",
                                    "Helyezés": "15"
                                },
                                {
                                    "Szoba azonosító": "144",
                                    "Férőhely": "3",
                                    "Helyezés": "15"
                                },
                                {
                                    "Szoba azonosító": "123",
                                    "Férőhely": "3",
                                    "Helyezés": "15"
                                },
                                {
                                    "Szoba azonosító": "153",
                                    "Férőhely": "3",
                                    "Helyezés": "15"
                                },
                                {
                                    "Szoba azonosító": "160",
                                    "Férőhely": "3",
                                    "Helyezés": "15"
                                },
                                {
                                    "Szoba azonosító": "155",
                                    "Férőhely": "3",
                                    "Helyezés": "15"
                                },
                                {
                                    "Szoba azonosító": "152",
                                    "Férőhely": "2",
                                    "Helyezés": "16"
                                },
                                {
                                    "Szoba azonosító": "173",
                                    "Férőhely": "2",
                                    "Helyezés": "16"
                                },
                                {
                                    "Szoba azonosító": "174",
                                    "Férőhely": "2",
                                    "Helyezés": "16"
                                },
                                {
                                    "Szoba azonosító": "186",
                                    "Férőhely": "2",
                                    "Helyezés": "16"
                                },
                                {
                                    "Szoba azonosító": "196",
                                    "Férőhely": "2",
                                    "Helyezés": "16"
                                },
                                {
                                    "Szoba azonosító": "184",
                                    "Férőhely": "2",
                                    "Helyezés": "16"
                                },
                                {
                                    "Szoba azonosító": "129",
                                    "Férőhely": "2",
                                    "Helyezés": "16"
                                },
                                {
                                    "Szoba azonosító": "100",
                                    "Férőhely": "2",
                                    "Helyezés": "16"
                                },
                                {
                                    "Szoba azonosító": "114",
                                    "Férőhely": "2",
                                    "Helyezés": "16"
                                },
                                {
                                    "Szoba azonosító": "98",
                                    "Férőhely": "2",
                                    "Helyezés": "16"
                                },
                                {
                                    "Szoba azonosító": "103",
                                    "Férőhely": "2",
                                    "Helyezés": "16"
                                },
                                {
                                    "Szoba azonosító": "85",
                                    "Férőhely": "2",
                                    "Helyezés": "16"
                                },
                                {
                                    "Szoba azonosító": "91",
                                    "Férőhely": "2",
                                    "Helyezés": "16"
                                },
                                {
                                    "Szoba azonosító": "11",
                                    "Férőhely": "2",
                                    "Helyezés": "16"
                                },
                                {
                                    "Szoba azonosító": "5",
                                    "Férőhely": "2",
                                    "Helyezés": "16"
                                },
                                {
                                    "Szoba azonosító": "21",
                                    "Férőhely": "2",
                                    "Helyezés": "16"
                                },
                                {
                                    "Szoba azonosító": "50",
                                    "Férőhely": "2",
                                    "Helyezés": "16"
                                },
                                {
                                    "Szoba azonosító": "57",
                                    "Férőhely": "2",
                                    "Helyezés": "16"
                                },
                                {
                                    "Szoba azonosító": "63",
                                    "Férőhely": "2",
                                    "Helyezés": "16"
                                },
                                {
                                    "Szoba azonosító": "72",
                                    "Férőhely": "2",
                                    "Helyezés": "16"
                                },
                                {
                                    "Szoba azonosító": "73",
                                    "Férőhely": "2",
                                    "Helyezés": "16"
                                },
                                {
                                    "Szoba azonosító": "66",
                                    "Férőhely": "3",
                                    "Helyezés": "17"
                                },
                                {
                                    "Szoba azonosító": "69",
                                    "Férőhely": "3",
                                    "Helyezés": "17"
                                },
                                {
                                    "Szoba azonosító": "46",
                                    "Férőhely": "3",
                                    "Helyezés": "17"
                                },
                                {
                                    "Szoba azonosító": "34",
                                    "Férőhely": "3",
                                    "Helyezés": "17"
                                },
                                {
                                    "Szoba azonosító": "40",
                                    "Férőhely": "3",
                                    "Helyezés": "17"
                                },
                                {
                                    "Szoba azonosító": "2",
                                    "Férőhely": "3",
                                    "Helyezés": "17"
                                },
                                {
                                    "Szoba azonosító": "10",
                                    "Férőhely": "3",
                                    "Helyezés": "17"
                                },
                                {
                                    "Szoba azonosító": "13",
                                    "Férőhely": "3",
                                    "Helyezés": "17"
                                },
                                {
                                    "Szoba azonosító": "90",
                                    "Férőhely": "3",
                                    "Helyezés": "17"
                                },
                                {
                                    "Szoba azonosító": "84",
                                    "Férőhely": "3",
                                    "Helyezés": "17"
                                },
                                {
                                    "Szoba azonosító": "104",
                                    "Férőhely": "3",
                                    "Helyezés": "17"
                                },
                                {
                                    "Szoba azonosító": "95",
                                    "Férőhely": "3",
                                    "Helyezés": "17"
                                },
                                {
                                    "Szoba azonosító": "183",
                                    "Férőhely": "3",
                                    "Helyezés": "17"
                                },
                                {
                                    "Szoba azonosító": "177",
                                    "Férőhely": "3",
                                    "Helyezés": "17"
                                },
                                {
                                    "Szoba azonosító": "178",
                                    "Férőhely": "3",
                                    "Helyezés": "17"
                                },
                                {
                                    "Szoba azonosító": "180",
                                    "Férőhely": "2",
                                    "Helyezés": "18"
                                },
                                {
                                    "Szoba azonosító": "151",
                                    "Férőhely": "2",
                                    "Helyezés": "18"
                                },
                                {
                                    "Szoba azonosító": "158",
                                    "Férőhely": "2",
                                    "Helyezés": "18"
                                },
                                {
                                    "Szoba azonosító": "166",
                                    "Férőhely": "2",
                                    "Helyezés": "18"
                                },
                                {
                                    "Szoba azonosító": "101",
                                    "Férőhely": "2",
                                    "Helyezés": "18"
                                },
                                {
                                    "Szoba azonosító": "75",
                                    "Férőhely": "2",
                                    "Helyezés": "18"
                                },
                                {
                                    "Szoba azonosító": "76",
                                    "Férőhely": "2",
                                    "Helyezés": "18"
                                },
                                {
                                    "Szoba azonosító": "136",
                                    "Férőhely": "2",
                                    "Helyezés": "18"
                                },
                                {
                                    "Szoba azonosító": "23",
                                    "Férőhely": "2",
                                    "Helyezés": "18"
                                },
                                {
                                    "Szoba azonosító": "37",
                                    "Férőhely": "2",
                                    "Helyezés": "18"
                                },
                                {
                                    "Szoba azonosító": "68",
                                    "Férőhely": "2",
                                    "Helyezés": "18"
                                },
                                {
                                    "Szoba azonosító": "71",
                                    "Férőhely": "3",
                                    "Helyezés": "19"
                                },
                                {
                                    "Szoba azonosító": "30",
                                    "Férőhely": "3",
                                    "Helyezés": "19"
                                },
                                {
                                    "Szoba azonosító": "31",
                                    "Férőhely": "3",
                                    "Helyezés": "19"
                                },
                                {
                                    "Szoba azonosító": "14",
                                    "Férőhely": "3",
                                    "Helyezés": "19"
                                },
                                {
                                    "Szoba azonosító": "135",
                                    "Férőhely": "3",
                                    "Helyezés": "19"
                                },
                                {
                                    "Szoba azonosító": "162",
                                    "Férőhely": "3",
                                    "Helyezés": "19"
                                },
                                {
                                    "Szoba azonosító": "179",
                                    "Férőhely": "3",
                                    "Helyezés": "19"
                                },
                                {
                                    "Szoba azonosító": "24",
                                    "Férőhely": "4",
                                    "Helyezés": "20"
                                },
                                {
                                    "Szoba azonosító": "26",
                                    "Férőhely": "2",
                                    "Helyezés": "21"
                                },
                                {
                                    "Szoba azonosító": "47",
                                    "Férőhely": "2",
                                    "Helyezés": "21"
                                },
                                {
                                    "Szoba azonosító": "53",
                                    "Férőhely": "2",
                                    "Helyezés": "21"
                                },
                                {
                                    "Szoba azonosító": "56",
                                    "Férőhely": "2",
                                    "Helyezés": "21"
                                },
                                {
                                    "Szoba azonosító": "108",
                                    "Férőhely": "2",
                                    "Helyezés": "21"
                                },
                                {
                                    "Szoba azonosító": "102",
                                    "Férőhely": "2",
                                    "Helyezés": "21"
                                },
                                {
                                    "Szoba azonosító": "105",
                                    "Férőhely": "2",
                                    "Helyezés": "21"
                                },
                                {
                                    "Szoba azonosító": "192",
                                    "Férőhely": "2",
                                    "Helyezés": "21"
                                },
                                {
                                    "Szoba azonosító": "167",
                                    "Férőhely": "3",
                                    "Helyezés": "22"
                                },
                                {
                                    "Szoba azonosító": "116",
                                    "Férőhely": "3",
                                    "Helyezés": "22"
                                },
                                {
                                    "Szoba azonosító": "142",
                                    "Férőhely": "3",
                                    "Helyezés": "22"
                                },
                                {
                                    "Szoba azonosító": "25",
                                    "Férőhely": "3",
                                    "Helyezés": "22"
                                },
                                {
                                    "Szoba azonosító": "41",
                                    "Férőhely": "3",
                                    "Helyezés": "22"
                                },
                                {
                                    "Szoba azonosító": "32",
                                    "Férőhely": "2",
                                    "Helyezés": "23"
                                },
                                {
                                    "Szoba azonosító": "65",
                                    "Férőhely": "2",
                                    "Helyezés": "23"
                                },
                                {
                                    "Szoba azonosító": "147",
                                    "Férőhely": "2",
                                    "Helyezés": "23"
                                },
                                {
                                    "Szoba azonosító": "125",
                                    "Férőhely": "2",
                                    "Helyezés": "23"
                                },
                                {
                                    "Szoba azonosító": "194",
                                    "Férőhely": "2",
                                    "Helyezés": "23"
                                },
                                {
                                    "Szoba azonosító": "60",
                                    "Férőhely": "3",
                                    "Helyezés": "24"
                                }
                            ]
                        },
                        "text/html": [
                            "<table>",
                            "<tr><th>Szoba azonosító</th><th>Férőhely</th><th>Helyezés</th></tr>",
                            "<tr><td>58</td><td>2</td><td>1</td></tr>",
                            "<tr><td>182</td><td>2</td><td>2</td></tr>",
                            "<tr><td>185</td><td>3</td><td>3</td></tr>",
                            "<tr><td>70</td><td>2</td><td>4</td></tr>",
                            "<tr><td>94</td><td>2</td><td>5</td></tr>",
                            "<tr><td>12</td><td>2</td><td>6</td></tr>",
                            "<tr><td>172</td><td>2</td><td>6</td></tr>",
                            "<tr><td>35</td><td>3</td><td>7</td></tr>",
                            "<tr><td>48</td><td>3</td><td>7</td></tr>",
                            "<tr><td>74</td><td>3</td><td>7</td></tr>",
                            "<tr><td>122</td><td>3</td><td>7</td></tr>",
                            "<tr><td>121</td><td>2</td><td>8</td></tr>",
                            "<tr><td>140</td><td>2</td><td>8</td></tr>",
                            "<tr><td>110</td><td>2</td><td>8</td></tr>",
                            "<tr><td>55</td><td>2</td><td>8</td></tr>",
                            "<tr><td>38</td><td>2</td><td>8</td></tr>",
                            "<tr><td>1</td><td>3</td><td>9</td></tr>",
                            "<tr><td>3</td><td>3</td><td>9</td></tr>",
                            "<tr><td>43</td><td>3</td><td>9</td></tr>",
                            "<tr><td>83</td><td>3</td><td>9</td></tr>",
                            "<tr><td>88</td><td>3</td><td>9</td></tr>",
                            "<tr><td>89</td><td>3</td><td>9</td></tr>",
                            "<tr><td>117</td><td>3</td><td>9</td></tr>",
                            "<tr><td>198</td><td>3</td><td>9</td></tr>",
                            "<tr><td>149</td><td>2</td><td>10</td></tr>",
                            "<tr><td>156</td><td>2</td><td>10</td></tr>",
                            "<tr><td>163</td><td>2</td><td>10</td></tr>",
                            "<tr><td>165</td><td>2</td><td>10</td></tr>",
                            "<tr><td>118</td><td>2</td><td>10</td></tr>",
                            "<tr><td>109</td><td>2</td><td>10</td></tr>",
                            "<tr><td>127</td><td>2</td><td>10</td></tr>",
                            "<tr><td>139</td><td>2</td><td>10</td></tr>",
                            "<tr><td>80</td><td>2</td><td>10</td></tr>",
                            "<tr><td>59</td><td>2</td><td>10</td></tr>",
                            "<tr><td>39</td><td>2</td><td>10</td></tr>",
                            "<tr><td>27</td><td>3</td><td>11</td></tr>",
                            "<tr><td>49</td><td>3</td><td>11</td></tr>",
                            "<tr><td>96</td><td>3</td><td>11</td></tr>",
                            "<tr><td>97</td><td>3</td><td>11</td></tr>",
                            "<tr><td>138</td><td>3</td><td>11</td></tr>",
                            "<tr><td>143</td><td>3</td><td>11</td></tr>",
                            "<tr><td>115</td><td>3</td><td>11</td></tr>",
                            "<tr><td>187</td><td>3</td><td>11</td></tr>",
                            "<tr><td>193</td><td>3</td><td>11</td></tr>",
                            "<tr><td>195</td><td>2</td><td>12</td></tr>",
                            "<tr><td>161</td><td>2</td><td>12</td></tr>",
                            "<tr><td>150</td><td>2</td><td>12</td></tr>",
                            "<tr><td>148</td><td>2</td><td>12</td></tr>",
                            "<tr><td>169</td><td>2</td><td>12</td></tr>",
                            "<tr><td>106</td><td>2</td><td>12</td></tr>",
                            "<tr><td>126</td><td>2</td><td>12</td></tr>",
                            "<tr><td>145</td><td>2</td><td>12</td></tr>",
                            "<tr><td>141</td><td>2</td><td>12</td></tr>",
                            "<tr><td>130</td><td>2</td><td>12</td></tr>",
                            "<tr><td>137</td><td>2</td><td>12</td></tr>",
                            "<tr><td>78</td><td>2</td><td>12</td></tr>",
                            "<tr><td>42</td><td>2</td><td>12</td></tr>",
                            "<tr><td>64</td><td>2</td><td>12</td></tr>",
                            "<tr><td>67</td><td>2</td><td>12</td></tr>",
                            "<tr><td>28</td><td>2</td><td>12</td></tr>",
                            "<tr><td>29</td><td>2</td><td>12</td></tr>",
                            "<tr><td>19</td><td>2</td><td>12</td></tr>",
                            "<tr><td>33</td><td>2</td><td>12</td></tr>",
                            "<tr><td>4</td><td>2</td><td>12</td></tr>",
                            "<tr><td>7</td><td>2</td><td>12</td></tr>",
                            "<tr><td>15</td><td>2</td><td>12</td></tr>",
                            "<tr><td>17</td><td>3</td><td>13</td></tr>",
                            "<tr><td>18</td><td>3</td><td>13</td></tr>",
                            "<tr><td>6</td><td>3</td><td>13</td></tr>",
                            "<tr><td>9</td><td>3</td><td>13</td></tr>",
                            "<tr><td>22</td><td>3</td><td>13</td></tr>",
                            "<tr><td>36</td><td>3</td><td>13</td></tr>",
                            "<tr><td>44</td><td>3</td><td>13</td></tr>",
                            "<tr><td>54</td><td>3</td><td>13</td></tr>",
                            "<tr><td>77</td><td>3</td><td>13</td></tr>",
                            "<tr><td>82</td><td>3</td><td>13</td></tr>",
                            "<tr><td>92</td><td>3</td><td>13</td></tr>",
                            "<tr><td>132</td><td>3</td><td>13</td></tr>",
                            "<tr><td>133</td><td>3</td><td>13</td></tr>",
                            "<tr><td>134</td><td>3</td><td>13</td></tr>",
                            "<tr><td>146</td><td>3</td><td>13</td></tr>",
                            "<tr><td>124</td><td>3</td><td>13</td></tr>",
                            "<tr><td>120</td><td>3</td><td>13</td></tr>",
                            "<tr><td>176</td><td>3</td><td>13</td></tr>",
                            "<tr><td>181</td><td>3</td><td>13</td></tr>",
                            "<tr><td>188</td><td>3</td><td>13</td></tr>",
                            "<tr><td>197</td><td>3</td><td>13</td></tr>",
                            "<tr><td>189</td><td>2</td><td>14</td></tr>",
                            "<tr><td>190</td><td>2</td><td>14</td></tr>",
                            "<tr><td>191</td><td>2</td><td>14</td></tr>",
                            "<tr><td>168</td><td>2</td><td>14</td></tr>",
                            "<tr><td>175</td><td>2</td><td>14</td></tr>",
                            "<tr><td>170</td><td>2</td><td>14</td></tr>",
                            "<tr><td>171</td><td>2</td><td>14</td></tr>",
                            "<tr><td>157</td><td>2</td><td>14</td></tr>",
                            "<tr><td>154</td><td>2</td><td>14</td></tr>",
                            "<tr><td>164</td><td>2</td><td>14</td></tr>",
                            "<tr><td>119</td><td>2</td><td>14</td></tr>",
                            "<tr><td>107</td><td>2</td><td>14</td></tr>",
                            "<tr><td>128</td><td>2</td><td>14</td></tr>",
                            "<tr><td>131</td><td>2</td><td>14</td></tr>",
                            "<tr><td>99</td><td>2</td><td>14</td></tr>",
                            "<tr><td>111</td><td>2</td><td>14</td></tr>",
                            "<tr><td>81</td><td>2</td><td>14</td></tr>",
                            "<tr><td>86</td><td>2</td><td>14</td></tr>",
                            "<tr><td>52</td><td>2</td><td>14</td></tr>",
                            "<tr><td>45</td><td>2</td><td>14</td></tr>",
                            "<tr><td>62</td><td>2</td><td>14</td></tr>",
                            "<tr><td>61</td><td>3</td><td>15</td></tr>",
                            "<tr><td>51</td><td>3</td><td>15</td></tr>",
                            "<tr><td>20</td><td>3</td><td>15</td></tr>",
                            "<tr><td>8</td><td>3</td><td>15</td></tr>",
                            "<tr><td>16</td><td>3</td><td>15</td></tr>",
                            "<tr><td>87</td><td>3</td><td>15</td></tr>",
                            "<tr><td>79</td><td>3</td><td>15</td></tr>",
                            "<tr><td>112</td><td>3</td><td>15</td></tr>",
                            "<tr><td>113</td><td>3</td><td>15</td></tr>",
                            "<tr><td>93</td><td>3</td><td>15</td></tr>",
                            "<tr><td>144</td><td>3</td><td>15</td></tr>",
                            "<tr><td>123</td><td>3</td><td>15</td></tr>",
                            "<tr><td>153</td><td>3</td><td>15</td></tr>",
                            "<tr><td>160</td><td>3</td><td>15</td></tr>",
                            "<tr><td>155</td><td>3</td><td>15</td></tr>",
                            "<tr><td>152</td><td>2</td><td>16</td></tr>",
                            "<tr><td>173</td><td>2</td><td>16</td></tr>",
                            "<tr><td>174</td><td>2</td><td>16</td></tr>",
                            "<tr><td>186</td><td>2</td><td>16</td></tr>",
                            "<tr><td>196</td><td>2</td><td>16</td></tr>",
                            "<tr><td>184</td><td>2</td><td>16</td></tr>",
                            "<tr><td>129</td><td>2</td><td>16</td></tr>",
                            "<tr><td>100</td><td>2</td><td>16</td></tr>",
                            "<tr><td>114</td><td>2</td><td>16</td></tr>",
                            "<tr><td>98</td><td>2</td><td>16</td></tr>",
                            "<tr><td>103</td><td>2</td><td>16</td></tr>",
                            "<tr><td>85</td><td>2</td><td>16</td></tr>",
                            "<tr><td>91</td><td>2</td><td>16</td></tr>",
                            "<tr><td>11</td><td>2</td><td>16</td></tr>",
                            "<tr><td>5</td><td>2</td><td>16</td></tr>",
                            "<tr><td>21</td><td>2</td><td>16</td></tr>",
                            "<tr><td>50</td><td>2</td><td>16</td></tr>",
                            "<tr><td>57</td><td>2</td><td>16</td></tr>",
                            "<tr><td>63</td><td>2</td><td>16</td></tr>",
                            "<tr><td>72</td><td>2</td><td>16</td></tr>",
                            "<tr><td>73</td><td>2</td><td>16</td></tr>",
                            "<tr><td>66</td><td>3</td><td>17</td></tr>",
                            "<tr><td>69</td><td>3</td><td>17</td></tr>",
                            "<tr><td>46</td><td>3</td><td>17</td></tr>",
                            "<tr><td>34</td><td>3</td><td>17</td></tr>",
                            "<tr><td>40</td><td>3</td><td>17</td></tr>",
                            "<tr><td>2</td><td>3</td><td>17</td></tr>",
                            "<tr><td>10</td><td>3</td><td>17</td></tr>",
                            "<tr><td>13</td><td>3</td><td>17</td></tr>",
                            "<tr><td>90</td><td>3</td><td>17</td></tr>",
                            "<tr><td>84</td><td>3</td><td>17</td></tr>",
                            "<tr><td>104</td><td>3</td><td>17</td></tr>",
                            "<tr><td>95</td><td>3</td><td>17</td></tr>",
                            "<tr><td>183</td><td>3</td><td>17</td></tr>",
                            "<tr><td>177</td><td>3</td><td>17</td></tr>",
                            "<tr><td>178</td><td>3</td><td>17</td></tr>",
                            "<tr><td>180</td><td>2</td><td>18</td></tr>",
                            "<tr><td>151</td><td>2</td><td>18</td></tr>",
                            "<tr><td>158</td><td>2</td><td>18</td></tr>",
                            "<tr><td>166</td><td>2</td><td>18</td></tr>",
                            "<tr><td>101</td><td>2</td><td>18</td></tr>",
                            "<tr><td>75</td><td>2</td><td>18</td></tr>",
                            "<tr><td>76</td><td>2</td><td>18</td></tr>",
                            "<tr><td>136</td><td>2</td><td>18</td></tr>",
                            "<tr><td>23</td><td>2</td><td>18</td></tr>",
                            "<tr><td>37</td><td>2</td><td>18</td></tr>",
                            "<tr><td>68</td><td>2</td><td>18</td></tr>",
                            "<tr><td>71</td><td>3</td><td>19</td></tr>",
                            "<tr><td>30</td><td>3</td><td>19</td></tr>",
                            "<tr><td>31</td><td>3</td><td>19</td></tr>",
                            "<tr><td>14</td><td>3</td><td>19</td></tr>",
                            "<tr><td>135</td><td>3</td><td>19</td></tr>",
                            "<tr><td>162</td><td>3</td><td>19</td></tr>",
                            "<tr><td>179</td><td>3</td><td>19</td></tr>",
                            "<tr><td>24</td><td>4</td><td>20</td></tr>",
                            "<tr><td>26</td><td>2</td><td>21</td></tr>",
                            "<tr><td>47</td><td>2</td><td>21</td></tr>",
                            "<tr><td>53</td><td>2</td><td>21</td></tr>",
                            "<tr><td>56</td><td>2</td><td>21</td></tr>",
                            "<tr><td>108</td><td>2</td><td>21</td></tr>",
                            "<tr><td>102</td><td>2</td><td>21</td></tr>",
                            "<tr><td>105</td><td>2</td><td>21</td></tr>",
                            "<tr><td>192</td><td>2</td><td>21</td></tr>",
                            "<tr><td>167</td><td>3</td><td>22</td></tr>",
                            "<tr><td>116</td><td>3</td><td>22</td></tr>",
                            "<tr><td>142</td><td>3</td><td>22</td></tr>",
                            "<tr><td>25</td><td>3</td><td>22</td></tr>",
                            "<tr><td>41</td><td>3</td><td>22</td></tr>",
                            "<tr><td>32</td><td>2</td><td>23</td></tr>",
                            "<tr><td>65</td><td>2</td><td>23</td></tr>",
                            "<tr><td>147</td><td>2</td><td>23</td></tr>",
                            "<tr><td>125</td><td>2</td><td>23</td></tr>",
                            "<tr><td>194</td><td>2</td><td>23</td></tr>",
                            "<tr><td>60</td><td>3</td><td>24</td></tr>",
                            "</table>"
                        ]
                    }
                }
            ],
            "execution_count": 12
        }
    ]
}