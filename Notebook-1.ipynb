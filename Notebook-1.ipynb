{
    "metadata": {
        "kernelspec": {
            "name": "SQL",
            "display_name": "SQL",
            "language": "sql"
        },
        "language_info": {
            "name": "sql",
            "version": ""
        }
    },
    "nbformat_minor": 2,
    "nbformat": 4,
    "cells": [
        {
            "cell_type": "markdown",
            "source": [
                "1.feladat"
            ],
            "metadata": {
                "azdata_cell_guid": "9f181357-14b8-457d-9fc2-cdab51ce6472"
            },
            "attachments": {}
        },
        {
            "cell_type": "code",
            "source": [
                ""
            ],
            "metadata": {
                "azdata_cell_guid": "1da0025d-d019-41e5-aa21-f29973f454b3",
                "language": "sql"
            },
            "outputs": [],
            "execution_count": null
        }
    ]
}